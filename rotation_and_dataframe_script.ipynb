{
 "cells": [
  {
   "cell_type": "markdown",
   "metadata": {},
   "source": [
    "### Importing libraries"
   ]
  },
  {
   "cell_type": "code",
   "execution_count": 1,
   "metadata": {
    "colab": {},
    "colab_type": "code",
    "id": "BQNlhs3dLenB"
   },
   "outputs": [],
   "source": [
    "import numpy as np\n",
    "from IPython.display import clear_output\n",
    "import matplotlib.pyplot as plt\n",
    "import time\n",
    "import random"
   ]
  },
  {
   "cell_type": "code",
   "execution_count": 2,
   "metadata": {},
   "outputs": [],
   "source": [
    "def RotationOfNeighbor2(x_f, y_f, phi_f, x_n, y_n, phi_n):\n",
    "    \n",
    "    ll_t = x_f.shape[0]\n",
    "    \n",
    "    x_f_T, y_f_T, phi_f_T = np.zeros(ll_t), np.zeros(ll_t), np.zeros(ll_t)\n",
    "    x_n_T, y_n_T, phi_n_T = np.zeros(ll_t), np.zeros(ll_t), np.zeros(ll_t)\n",
    "    \n",
    "\n",
    "    for t in range(ll_t):\n",
    "        rotationAngle   = - phi_f[t] + (np.pi/2)\n",
    "        translation_x   = - x_f[t]\n",
    "        translation_y   = - y_f[t]\n",
    "        \n",
    "        # Translation + rotation of focal individual.\n",
    "        xAux = x_f[t] - x_f[t]\n",
    "        yAux = y_f[t] - y_f[t]\n",
    "        \n",
    "        x_f_T[t]   = (xAux * np.cos(rotationAngle)) - (yAux * np.sin(rotationAngle))\n",
    "        y_f_T[t]   = (xAux * np.sin(rotationAngle)) + (yAux * np.cos(rotationAngle))\n",
    "        phi_f_T[t] = phi_f[t] + rotationAngle\n",
    "        \n",
    "        \n",
    "        # Translation + rotation of neighbor.\n",
    "        xAux = x_n[t] - x_f[t]\n",
    "        yAux = y_n[t] - y_f[t]\n",
    "        \n",
    "        x_n_T[t]   = (xAux * np.cos(rotationAngle)) - (yAux * np.sin(rotationAngle))\n",
    "        y_n_T[t]   = (xAux * np.sin(rotationAngle)) + (yAux * np.cos(rotationAngle))\n",
    "        phi_n_T[t] = phi_n[t] + rotationAngle\n",
    "\n",
    "    return x_f_T, y_f_T, phi_f_T, x_n_T, y_n_T, phi_n_T"
   ]
  },
  {
   "cell_type": "code",
   "execution_count": 3,
   "metadata": {},
   "outputs": [],
   "source": [
    "def RotationOfNeighbor(x_f, y_f, phi_f, x_n, y_n, phi_n):\n",
    "    \n",
    "    rotationAngle   = - phi_f + (np.pi/2)\n",
    "    translation_x   = - x_f\n",
    "    translation_y   = - y_f\n",
    "        \n",
    "    # Translation + rotation of focal individual.\n",
    "    xAux = x_f - x_f\n",
    "    yAux = y_f - y_f\n",
    "        \n",
    "    x_f_T   = (xAux * np.cos(rotationAngle)) - (yAux * np.sin(rotationAngle))\n",
    "    y_f_T   = (xAux * np.sin(rotationAngle)) + (yAux * np.cos(rotationAngle))\n",
    "    phi_f_T = phi_f + rotationAngle\n",
    "        \n",
    "        \n",
    "    # Translation + rotation of neighbor.\n",
    "    xAux = x_n - x_f\n",
    "    yAux = y_n - y_f\n",
    "        \n",
    "    x_n_T   = (xAux * np.cos(rotationAngle)) - (yAux * np.sin(rotationAngle))\n",
    "    y_n_T   = (xAux * np.sin(rotationAngle)) + (yAux * np.cos(rotationAngle))\n",
    "    phi_n_T = phi_n + rotationAngle\n",
    "\n",
    "    return x_f_T, y_f_T, phi_f_T, x_n_T, y_n_T, phi_n_T"
   ]
  },
  {
   "cell_type": "markdown",
   "metadata": {},
   "source": [
    "### Rotation"
   ]
  },
  {
   "cell_type": "code",
   "execution_count": 6,
   "metadata": {},
   "outputs": [
    {
     "name": "stderr",
     "output_type": "stream",
     "text": [
      "<ipython-input-6-5737b0cf1462>:57: UserWarning: This figure was using constrained_layout==True, but that is incompatible with subplots_adjust and or tight_layout: setting constrained_layout==False. \n",
      "  plt.subplots_adjust(wspace=0.4)\n"
     ]
    },
    {
     "data": {
      "image/png": "[encoded data removed]",
      "text/plain": [
       "<Figure size 900x360 with 2 Axes>"
      ]
     },
     "metadata": {
      "needs_background": "light"
     },
     "output_type": "display_data"
    }
   ],
   "source": [
    "# Size of box\n",
    "Lx, Ly = 5, 5\n",
    "\n",
    "# Walls of box\n",
    "w1_x, w1_y = np.full(6, 0),  np.arange(0, Ly+1, 1)\n",
    "w2_x, w2_y = np.full(6, Ly), np.arange(0, Ly+1, 1)\n",
    "w3_x, w3_y = np.arange(0, Ly+1, 1), np.full(6, 0)\n",
    "w4_x, w4_y = np.arange(0, Ly+1, 1), np.full(6, Lx)\n",
    "\n",
    "\n",
    "# Focal particle (fish)\n",
    "x_i, y_i   = np.random.rand() * Lx, np.random.rand() * Ly\n",
    "phi_i      = np.random.rand() * 2 * np.pi\n",
    "v_i        = 1.1\n",
    "\n",
    "# Neighbor particle (robot)\n",
    "x_j, y_j   = np.random.rand() * Lx, np.random.rand() * Ly\n",
    "phi_j      = np.random.rand() * 2 * np.pi\n",
    "v_j        = 1.5\n",
    "\n",
    "# Implementation of rotation\n",
    "x_i_T, y_i_T, phi_i_T, x_j_T,  y_j_T,  phi_j_T  = RotationOfNeighbor(x_i, y_i, phi_i, x_j,  y_j,  phi_j)\n",
    "\n",
    "\n",
    "\n",
    "# Plot\n",
    "plt.rcParams['figure.figsize'] = [12.5, 5]\n",
    "plt.rc('xtick', labelsize=15)\n",
    "plt.rc('ytick', labelsize=15)\n",
    "FS, MS, LFS, TFS, LW = 12, 3, 12, 12, 1.2\n",
    "    \n",
    "fig, axs = plt.subplots(nrows=1, ncols=2, constrained_layout=True)\n",
    "ax = axs[0]\n",
    "ax.plot(w1_x, w1_y, '--', linewidth=2.5, color='black', alpha=0.5)\n",
    "ax.plot(w2_x, w2_y, '--', linewidth=2.5, color='black', alpha=0.5)\n",
    "ax.plot(w3_x, w3_y, '--', linewidth=2.5, color='black', alpha=0.5)\n",
    "ax.plot(w4_x, w4_y, '--', linewidth=2.5, color='black', alpha=0.5)\n",
    "ax.quiver(x_i, y_i, v_i * np.cos(phi_i), v_i * np.sin(phi_i), color='black', \n",
    "          angles='xy', scale_units='xy', scale=1, label='focal ind. $i$')\n",
    "ax.quiver(x_j, y_j, v_j * np.cos(phi_j), v_j * np.sin(phi_j), color='red', \n",
    "          angles='xy', scale_units='xy', scale=1, label='nieghbor $j$')\n",
    "ax.set_xlim([-2, Lx+2])\n",
    "ax.set_ylim([-2, Ly+2])\n",
    "ax.legend(frameon=False, loc='best', fontsize=12)\n",
    "\n",
    "ax = axs[1]\n",
    "ax.quiver(x_i_T, y_i_T, v_i * np.cos(phi_i_T), v_i * np.sin(phi_i_T), color='black', \n",
    "          angles='xy', scale_units='xy', scale=1, label='focal ind. $i$')\n",
    "ax.quiver(x_j_T, y_j_T, v_j * np.cos(phi_j_T), v_j * np.sin(phi_j_T), color='red', \n",
    "          angles='xy', scale_units='xy', scale=1, label='nieghbor $j$')\n",
    "ax.set_xlim([-5, 5])\n",
    "ax.set_ylim([-5, 5])\n",
    "ax.legend(frameon=False, loc='lower left', fontsize=12)\n",
    "\n",
    "\n",
    "# set the spacing between subplots\n",
    "plt.subplots_adjust(wspace=0.4)\n",
    "plt.show()"
   ]
  },
  {
   "cell_type": "code",
   "execution_count": null,
   "metadata": {},
   "outputs": [],
   "source": []
  },
  {
   "cell_type": "code",
   "execution_count": 87,
   "metadata": {},
   "outputs": [
    {
     "name": "stdout",
     "output_type": "stream",
     "text": [
      "[0 1 2 3 4]\n",
      "[10 11]\n",
      "[ 0  1  2  3  4 10 11  0  1  2  3  4 10 11]\n"
     ]
    }
   ],
   "source": [
    "a1 = []\n",
    "for i in range(5):\n",
    "    a1.append(i)\n",
    "a1 = np.array(a1)\n",
    "    \n",
    "a2 = []\n",
    "for i in range(10,12):\n",
    "    a2.append(i)\n",
    "a2 = np.array(a2)\n",
    "    \n",
    "a3 = np.append(a1,a2)\n",
    "a3 = np.append(a3, a1)\n",
    "a3 = np.append(a3, a2)\n",
    "\n",
    "\n",
    "print(a1)\n",
    "print(a2)\n",
    "print(a3)"
   ]
  },
  {
   "cell_type": "code",
   "execution_count": null,
   "metadata": {},
   "outputs": [],
   "source": [
    "import pandas as pd\n",
    "import seaborn as sns"
   ]
  },
  {
   "cell_type": "code",
   "execution_count": 11,
   "metadata": {},
   "outputs": [
    {
     "name": "stdout",
     "output_type": "stream",
     "text": [
      "  Trial1   Age\n",
      "0    Tom  20.0\n",
      "1   nick  21.0\n",
      "2  krish  19.0\n",
      "3   jack   NaN\n"
     ]
    }
   ],
   "source": [
    "# intialise data of lists.\n",
    "tips = {'Trial1':['Tom', 'nick', 'krish', 'jack'],\n",
    "        'Age':[20, 21, 19, np.NaN]}\n",
    " \n",
    "# Create DataFrame\n",
    "df = pd.DataFrame(tips)\n",
    " \n",
    "# Print the output.\n",
    "print(df)"
   ]
  },
  {
   "cell_type": "code",
   "execution_count": 52,
   "metadata": {},
   "outputs": [
    {
     "name": "stdout",
     "output_type": "stream",
     "text": [
      "                                            Trials\n",
      "0      a\n",
      "0   0\n",
      "1   1\n",
      "2   1\n",
      "3   2\n",
      "4   3\n",
      "5   4\n",
      "6  52\n",
      "1                                 b\n",
      "0  3\n",
      "1  4\n",
      "2  5\n",
      "2                                 c\n",
      "0  6\n",
      "1  7\n",
      "2  8\n",
      "3\n"
     ]
    }
   ],
   "source": [
    "aa = pd.DataFrame({'a':[0,1,1,2,3,4,52]})\n",
    "bb = pd.DataFrame({'b':[3,4,5]})\n",
    "cc = pd.DataFrame({'c':[6,7,8]})\n",
    "\n",
    "#tips2 = pd.DataFrame({'Trials':['a', 'b', 'c']})\n",
    "tips2 = pd.DataFrame({'Trials':[aa, bb, cc]})\n",
    "print(tips2)\n",
    "\n",
    "pd.DataFrame.keys(tips2)\n",
    "print(len(tips2))"
   ]
  },
  {
   "cell_type": "code",
   "execution_count": 81,
   "metadata": {},
   "outputs": [
    {
     "name": "stdout",
     "output_type": "stream",
     "text": [
      "    trial 1  trial 2  trial 3\n",
      "0        -7      0.0     15.0\n",
      "1        -6      1.0     17.0\n",
      "2        -5      2.0      NaN\n",
      "3        -4      3.0      NaN\n",
      "4        -4      4.0      NaN\n",
      "5        -4      5.0      NaN\n",
      "6        -5      6.0      NaN\n",
      "7        -5      7.0      NaN\n",
      "8        -9      8.0      NaN\n",
      "9       -10      9.0      NaN\n",
      "10      -20      NaN      NaN\n"
     ]
    },
    {
     "data": {
      "text/plain": [
       "array([[ -7.,   0.,  15.],\n",
       "       [ -6.,   1.,  17.],\n",
       "       [ -5.,   2.,  nan],\n",
       "       [ -4.,   3.,  nan],\n",
       "       [ -4.,   4.,  nan],\n",
       "       [ -4.,   5.,  nan],\n",
       "       [ -5.,   6.,  nan],\n",
       "       [ -5.,   7.,  nan],\n",
       "       [ -9.,   8.,  nan],\n",
       "       [-10.,   9.,  nan],\n",
       "       [-20.,  nan,  nan]])"
      ]
     },
     "execution_count": 81,
     "metadata": {},
     "output_type": "execute_result"
    }
   ],
   "source": [
    "a = [-7,-6,-5,-4,-4,-4,-5,-5,-9,-10,-20]\n",
    "b = [0,1,2,3,4,5,6,7,8,9]\n",
    "c = [15, 17]\n",
    "\n",
    "la, lb, lc = len(a), len(b), len(c)\n",
    "# now find the max\n",
    "max_len = max(la, lb, lc)\n",
    "\n",
    "if not max_len == la:\n",
    "    a.extend([np.NaN]*(max_len-la))\n",
    "if not max_len == lb:\n",
    "    b.extend([np.NaN]*(max_len-lb))\n",
    "if not max_len == lc:\n",
    "    c.extend([np.NaN]*(max_len-lc))\n",
    "    #c.extend(['']*(max_len-lc))\n",
    "\n",
    "tips = pd.DataFrame({'trial 1':a,'trial 2':b,'trial 3':c})\n",
    "print(tips)\n",
    "#tips.keys\n",
    "tips.values"
   ]
  },
  {
   "cell_type": "code",
   "execution_count": 82,
   "metadata": {},
   "outputs": [
    {
     "data": {
      "image/png": "[encoded data removed]",
      "text/plain": [
       "<Figure size 432x288 with 1 Axes>"
      ]
     },
     "metadata": {
      "needs_background": "light"
     },
     "output_type": "display_data"
    }
   ],
   "source": [
    "plt.rcParams['figure.figsize'] = [6, 4]\n",
    "plt.rc('xtick', labelsize=18)\n",
    "plt.rc('ytick', labelsize=18)\n",
    "FS, MS, LFS, TFS, LW = 12, 3, 12, 16, 1.2\n",
    "\n",
    "ax = sns.violinplot(data=tips)"
   ]
  },
  {
   "cell_type": "code",
   "execution_count": 11,
   "metadata": {},
   "outputs": [
    {
     "name": "stdout",
     "output_type": "stream",
     "text": [
      "[ 0.  0. nan  0. nan]\n",
      "There is a Nan in array!\n",
      "There is a Nan in array!\n"
     ]
    }
   ],
   "source": [
    "test = np.zeros(5)\n",
    "\n",
    "test[2] = np.NaN\n",
    "test[4] = np.NaN\n",
    "\n",
    "print(test)\n",
    "\n",
    "for t in range(5):\n",
    "    x = np.isnan(test[t])\n",
    "    if (x == True):\n",
    "        print('There is a Nan in array!')"
   ]
  },
  {
   "cell_type": "code",
   "execution_count": 17,
   "metadata": {},
   "outputs": [
    {
     "name": "stdout",
     "output_type": "stream",
     "text": [
      "[0.5488135  0.71518937 0.60276338 0.54488318]\n",
      "[4.17022005e-01 7.20324493e-01 1.14374817e-04 3.02332573e-01]\n",
      "[0.5488135  0.71518937 0.60276338 0.54488318 0.4236548 ]\n"
     ]
    }
   ],
   "source": [
    "np.random.seed(0)\n",
    "test = np.random.rand(4)\n",
    "print(test)\n",
    "\n",
    "np.random.seed(1)\n",
    "test = np.random.rand(4)\n",
    "print(test)\n",
    "\n",
    "np.random.seed(0)\n",
    "test = np.random.rand(5)\n",
    "print(test)"
   ]
  },
  {
   "cell_type": "code",
   "execution_count": 27,
   "metadata": {},
   "outputs": [
    {
     "name": "stdout",
     "output_type": "stream",
     "text": [
      "[  0   1   2   3   4   5   6   7   8   9  10  11  12  13  14  15  16  17\n",
      "  18  19  20  21  22  23  24  25  26  27  28  29  30  31  32  33  34  35\n",
      "  36  37  38  39  40  41  42  43  44  45  46  47  48  49  50  51  52  53\n",
      "  54  55  56  57  58  59  60  61  62  63  64  65  66  67  68  69  70  71\n",
      "  72  73  74  75  76  77  78  79  80  81  82  83  84  85  86  87  88  89\n",
      "  90  91  92  93  94  95  96  97  98  99 100 101 102 103 104 105 106 107\n",
      " 108 109 110 111 112 113 114 115 116 117 118 119 120 121 122 123 124 125\n",
      " 126 127 128 129 130 131 132 133 134 135 136 137 138 139 140 141 142 143\n",
      " 144 145 146 147 148 149 150 151 152 153 154 155 156 157 158 159 160 161\n",
      " 162 163 164 165 166]\n",
      "[167 168 169 170 171 172 173 174 175 176 177 178 179 180 181 182 183 184\n",
      " 185 186 187 188 189 190 191 192 193 194 195 196 197 198 199 200 201 202\n",
      " 203 204 205 206 207 208 209 210 211 212 213 214 215 216 217 218 219 220\n",
      " 221 222 223 224 225 226 227 228 229 230 231 232 233 234 235 236 237 238\n",
      " 239 240 241 242 243 244 245 246 247 248 249 250 251 252 253 254 255 256\n",
      " 257 258 259 260 261 262 263 264 265 266 267 268 269 270 271 272 273 274\n",
      " 275 276 277 278 279 280 281 282 283 284 285 286 287 288 289 290 291 292\n",
      " 293 294 295 296 297 298 299 300 301 302 303 304 305 306 307 308 309 310\n",
      " 311 312 313 314 315 316 317 318 319 320 321 322 323 324 325 326 327 328\n",
      " 329 330 331 332 333]\n"
     ]
    }
   ],
   "source": [
    "test = np.linspace(0, 166, num=167, endpoint=True, dtype=int)\n",
    "print(test)\n",
    "\n",
    "test = np.linspace(167, 333, num=167, endpoint=True, dtype=int)\n",
    "print(test)"
   ]
  },
  {
   "cell_type": "code",
   "execution_count": 30,
   "metadata": {},
   "outputs": [
    {
     "name": "stdout",
     "output_type": "stream",
     "text": [
      "0.8917730007820798\n"
     ]
    }
   ],
   "source": [
    "angle_noise = np.random.rand(1)\n",
    "print(angle_noise[0])"
   ]
  },
  {
   "cell_type": "code",
   "execution_count": 31,
   "metadata": {},
   "outputs": [
    {
     "name": "stdout",
     "output_type": "stream",
     "text": [
      "1\n",
      "2\n",
      "3\n",
      "4\n"
     ]
    }
   ],
   "source": [
    "for t in range(1,5):\n",
    "    print(t)"
   ]
  },
  {
   "cell_type": "code",
   "execution_count": null,
   "metadata": {},
   "outputs": [],
   "source": []
  },
  {
   "cell_type": "code",
   "execution_count": 2,
   "metadata": {},
   "outputs": [
    {
     "name": "stdout",
     "output_type": "stream",
     "text": [
      "[[ 1.  1.  2.  3.]\n",
      " [ 2.  4.  5.  6.]\n",
      " [ 3.  7.  8.  9.]\n",
      " [ 1. 10. 11. nan]\n",
      " [ 2. 13. 14. 15.]\n",
      " [ 3. 16. 17. 18.]\n",
      " [ 1. 19. 20. 21.]\n",
      " [ 2. 22. 23. 24.]\n",
      " [ 3. 25. 26. 27.]]\n"
     ]
    }
   ],
   "source": [
    "ll   = 9\n",
    "test = np.zeros((ll, 4))\n",
    "\n",
    "counter  = 1\n",
    "counter2 = 1\n",
    "for t in range(ll):\n",
    "    test[t, 0] = counter\n",
    "    test[t, 1] = counter2\n",
    "    counter2 += 1\n",
    "    test[t, 2] = counter2\n",
    "    counter2 += 1\n",
    "    test[t, 3] = counter2\n",
    "    counter2 += 1\n",
    "    \n",
    "    counter += 1\n",
    "    if (counter > 3):\n",
    "        counter = 1\n",
    "        \n",
    "test[3,3] = np.NaN\n",
    "\n",
    "print(test)"
   ]
  },
  {
   "cell_type": "code",
   "execution_count": 3,
   "metadata": {},
   "outputs": [
    {
     "name": "stdout",
     "output_type": "stream",
     "text": [
      "[[ 1.  1.  2.  3.]\n",
      " [ 1. 10. 11. nan]\n",
      " [ 1. 19. 20. 21.]]\n"
     ]
    }
   ],
   "source": [
    "sel_test = test[test[:,0] == 1]\n",
    "print(sel_test)"
   ]
  },
  {
   "cell_type": "code",
   "execution_count": 5,
   "metadata": {},
   "outputs": [
    {
     "name": "stdout",
     "output_type": "stream",
     "text": [
      "1\n",
      "4\n",
      "7\n"
     ]
    }
   ],
   "source": [
    "for i in range(1,10,3):\n",
    "    print(i)"
   ]
  },
  {
   "cell_type": "code",
   "execution_count": null,
   "metadata": {},
   "outputs": [],
   "source": []
  }
 ],
 "metadata": {
  "colab": {
   "name": "MM model.ipynb",
   "provenance": []
  },
  "kernelspec": {
   "display_name": "Python 3",
   "language": "python",
   "name": "python3"
  },
  "language_info": {
   "codemirror_mode": {
    "name": "ipython",
    "version": 3
   },
   "file_extension": ".py",
   "mimetype": "text/x-python",
   "name": "python",
   "nbconvert_exporter": "python",
   "pygments_lexer": "ipython3",
   "version": "3.8.1"
  }
 },
 "nbformat": 4,
 "nbformat_minor": 1
}
